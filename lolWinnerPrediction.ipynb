{
 "cells": [
  {
   "cell_type": "code",
   "execution_count": 1,
   "metadata": {},
   "outputs": [],
   "source": [
    "import pandas as pd"
   ]
  },
  {
   "cell_type": "code",
   "execution_count": 2,
   "metadata": {},
   "outputs": [],
   "source": [
    "df = pd.read_csv('datas/games.csv')"
   ]
  },
  {
   "cell_type": "code",
   "execution_count": 3,
   "metadata": {},
   "outputs": [],
   "source": [
    "test1_col_str ='t1_champ1id\tt1_champ1_sum1\tt1_champ1_sum2\tt1_champ2id\tt1_champ2_sum1\tt1_champ2_sum2\tt1_champ3id\tt1_champ3_sum1\tt1_champ3_sum2\tt1_champ4id\tt1_champ4_sum1\tt1_champ4_sum2\tt1_champ5id\tt1_champ5_sum1\tt1_champ5_sum2\tt1_ban1\tt1_ban2\tt1_ban3\tt1_ban4\tt1_ban5\tt2_champ1id\tt2_champ1_sum1\tt2_champ1_sum2\tt2_champ2id\tt2_champ2_sum1\tt2_champ2_sum2\tt2_champ3id\tt2_champ3_sum1\tt2_champ3_sum2\tt2_champ4id\tt2_champ4_sum1\tt2_champ4_sum2\tt2_champ5id\tt2_champ5_sum1\tt2_champ5_sum2\tt2_ban1\tt2_ban2\tt2_ban3\tt2_ban4\tt2_ban5'\n",
    "test1_cols = test1_col_str.split(\"\\t\")\n",
    "\n",
    "test2_col_str = 'gameDuration\tfirstBlood\tfirstTower\tfirstInhibitor\tfirstBaron\tfirstDragon\tfirstRiftHerald\tt1_towerKills\tt1_inhibitorKills\tt1_baronKills\tt1_dragonKills\tt1_riftHeraldKills\tt2_towerKills\tt2_inhibitorKills\tt2_baronKills\tt2_dragonKills\tt2_riftHeraldKills'\n",
    "test2_cols=test2_col_str.split(\"\\t\")\n",
    "\n",
    "test3_cols = test1_cols+test2_cols"
   ]
  },
  {
   "cell_type": "code",
   "execution_count": 11,
   "metadata": {
    "scrolled": true
   },
   "outputs": [],
   "source": [
    "t1_rows = []\n",
    "t2_rows = []\n",
    "t3_rows = []\n",
    "\n",
    "target = []\n",
    "\n",
    "for i in range(len(df)):\n",
    "    row = df.iloc[i]\n",
    "\n",
    "    test1_row = row[test1_cols]\n",
    "    test2_row = row[test2_cols]\n",
    "    test3_row = row[test3_cols]\n",
    "    answer = row['winner']\n",
    "    \n",
    "    t1_rows.append(test1_row.array)\n",
    "    t2_rows.append(test2_row.array)\n",
    "    t3_rows.append(test3_row.array)\n",
    "    target.append(answer)\n"
   ]
  },
  {
   "cell_type": "code",
   "execution_count": 12,
   "metadata": {
    "scrolled": true
   },
   "outputs": [],
   "source": [
    "from sklearn import svm\n",
    "from sklearn.model_selection import train_test_split"
   ]
  },
  {
   "cell_type": "code",
   "execution_count": null,
   "metadata": {},
   "outputs": [],
   "source": [
    "t1_rows[0]"
   ]
  }
 ],
 "metadata": {
  "kernelspec": {
   "display_name": "Python 3",
   "language": "python",
   "name": "python3"
  },
  "language_info": {
   "codemirror_mode": {
    "name": "ipython",
    "version": 3
   },
   "file_extension": ".py",
   "mimetype": "text/x-python",
   "name": "python",
   "nbconvert_exporter": "python",
   "pygments_lexer": "ipython3",
   "version": "3.7.4"
  }
 },
 "nbformat": 4,
 "nbformat_minor": 2
}
